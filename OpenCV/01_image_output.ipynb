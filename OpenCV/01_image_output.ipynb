{
 "cells": [
  {
   "cell_type": "markdown",
   "id": "3c88d705-f107-4128-adde-acc22b86786e",
   "metadata": {},
   "source": [
    "# 환경 설정\n",
    "Anaconda Prompt에서 다음 명령 수행\n",
    "> pip install opencv-python"
   ]
  },
  {
   "cell_type": "code",
   "execution_count": null,
   "id": "415db0a3-a6a5-4f2a-9df7-04e4882e0bbb",
   "metadata": {},
   "outputs": [],
   "source": [
    "import cv2\n",
    "cv2.__version__"
   ]
  },
  {
   "cell_type": "markdown",
   "id": "63a51255-1b31-460f-a9b1-8c6aa85100b5",
   "metadata": {},
   "source": [
    "# OpenCV (Computer Vision)\n",
    "다양한 영상 (이미지) / 동영상 처리에 사용되는 오픈소스 라이브러리"
   ]
  },
  {
   "cell_type": "markdown",
   "id": "cafaa14d-b14b-4976-9f4e-983c68160baf",
   "metadata": {},
   "source": [
    "# 1. 이미지 출력"
   ]
  },
  {
   "cell_type": "code",
   "execution_count": null,
   "id": "f8723eb2-4231-48ff-aa77-4fe221383ed6",
   "metadata": {},
   "outputs": [],
   "source": [
    "import cv2\n",
    "img = cv2.imread('data/img.jpg') # 해당 경로의 파일 읽어오기\n",
    "cv2.imshow('img', img) # img라는 이름의 창에 img를 표시\n",
    "cv2.waitKey(0) # 지정된 시간(ms) 동안 사용자 키 입력 대기\n",
    "cv2.destroyAllWindows() # 모든 창 닫기"
   ]
  },
  {
   "cell_type": "code",
   "execution_count": null,
   "id": "b5dd1410-25c8-4c41-9ae9-41e2344663d2",
   "metadata": {},
   "outputs": [],
   "source": []
  },
  {
   "cell_type": "code",
   "execution_count": null,
   "id": "f4dd895b-7ae1-49f7-a239-41f97a418c66",
   "metadata": {},
   "outputs": [],
   "source": []
  },
  {
   "cell_type": "code",
   "execution_count": null,
   "id": "a279e043-ad3c-47e4-a2c1-9f3d16f471ea",
   "metadata": {},
   "outputs": [],
   "source": []
  },
  {
   "cell_type": "code",
   "execution_count": null,
   "id": "3d163ce1-3482-44cd-8de8-56cead1fe071",
   "metadata": {},
   "outputs": [],
   "source": []
  },
  {
   "cell_type": "code",
   "execution_count": null,
   "id": "26a0e477-42fe-4364-838a-84cbd3c51800",
   "metadata": {},
   "outputs": [],
   "source": []
  }
 ],
 "metadata": {
  "kernelspec": {
   "display_name": "Python 3 (ipykernel)",
   "language": "python",
   "name": "python3"
  },
  "language_info": {
   "codemirror_mode": {
    "name": "ipython",
    "version": 3
   },
   "file_extension": ".py",
   "mimetype": "text/x-python",
   "name": "python",
   "nbconvert_exporter": "python",
   "pygments_lexer": "ipython3",
   "version": "3.8.15"
  }
 },
 "nbformat": 4,
 "nbformat_minor": 5
}
