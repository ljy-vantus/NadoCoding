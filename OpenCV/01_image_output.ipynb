{
 "cells": [
  {
   "cell_type": "markdown",
   "id": "3c88d705-f107-4128-adde-acc22b86786e",
   "metadata": {},
   "source": [
    "# 환경 설정\n",
    "Anaconda Prompt에서 다음 명령 수행\n",
    "> pip install opencv-python"
   ]
  },
  {
   "cell_type": "code",
   "execution_count": 1,
   "id": "415db0a3-a6a5-4f2a-9df7-04e4882e0bbb",
   "metadata": {},
   "outputs": [
    {
     "data": {
      "text/plain": [
       "'4.5.5'"
      ]
     },
     "execution_count": 1,
     "metadata": {},
     "output_type": "execute_result"
    }
   ],
   "source": [
    "import cv2\n",
    "cv2.__version__"
   ]
  },
  {
   "cell_type": "markdown",
   "id": "63a51255-1b31-460f-a9b1-8c6aa85100b5",
   "metadata": {},
   "source": [
    "# OpenCV (Computer Vision)\n",
    "다양한 영상 (이미지) / 동영상 처리에 사용되는 오픈소스 라이브러리"
   ]
  },
  {
   "cell_type": "markdown",
   "id": "cafaa14d-b14b-4976-9f4e-983c68160baf",
   "metadata": {},
   "source": [
    "# 1. 이미지 출력"
   ]
  },
  {
   "cell_type": "code",
   "execution_count": 3,
   "id": "f8723eb2-4231-48ff-aa77-4fe221383ed6",
   "metadata": {},
   "outputs": [],
   "source": [
    "import cv2\n",
    "img = cv2.imread('data/img.jpg') # 해당 경로의 파일 읽어오기\n",
    "cv2.imshow('img', img) # img라는 이름의 창에 img를 표시\n",
    "cv2.waitKey(2000) # 지정된 시간(ms) 동안 사용자 키 입력 대기\n",
    "cv2.destroyAllWindows() # 모든 창 닫기"
   ]
  },
  {
   "cell_type": "markdown",
   "id": "28c07786-1433-49da-84cf-1a90467002fc",
   "metadata": {},
   "source": [
    "## 읽기 옵션\n",
    "1. cv2.IMREAD_COLOR: 컬러 이미지. 투명 영역은 무시 (기본값)\n",
    "1. cv2.IMREAD_GRAYSCALE: 흑백 이미지\n",
    "1. cv2.IMREAD_UNCHANGED: 투명 영역까지 포함"
   ]
  },
  {
   "cell_type": "code",
   "execution_count": 5,
   "id": "f4dd895b-7ae1-49f7-a239-41f97a418c66",
   "metadata": {},
   "outputs": [],
   "source": [
    "import cv2\n",
    "img_color = cv2.imread('data/img.jpg', cv2.IMREAD_COLOR)\n",
    "img_gray = cv2.imread('data/img.jpg', cv2.IMREAD_GRAYSCALE)\n",
    "img_unchanged = cv2.imread('data/img.jpg', cv2.IMREAD_UNCHANGED)\n",
    "\n",
    "cv2.imshow('img_color', img_color)\n",
    "cv2.imshow('img_gray', img_gray)\n",
    "cv2.imshow('img_unchanged', img_unchanged)\n",
    "\n",
    "cv2.waitKey(0)\n",
    "cv2.destroyAllWindows()"
   ]
  },
  {
   "cell_type": "markdown",
   "id": "5283808d-3e5d-4144-8831-e52bd3571927",
   "metadata": {},
   "source": [
    "## Shape\n",
    "이미지의 height, width, channel정보"
   ]
  },
  {
   "cell_type": "code",
   "execution_count": 6,
   "id": "3d163ce1-3482-44cd-8de8-56cead1fe071",
   "metadata": {},
   "outputs": [
    {
     "data": {
      "text/plain": [
       "(391, 640, 3)"
      ]
     },
     "execution_count": 6,
     "metadata": {},
     "output_type": "execute_result"
    }
   ],
   "source": [
    "import cv2\n",
    "img = cv2.imread('data/img.jpg')\n",
    "img.shape # 세로, 가로, Channel"
   ]
  }
 ],
 "metadata": {
  "kernelspec": {
   "display_name": "Python 3 (ipykernel)",
   "language": "python",
   "name": "python3"
  },
  "language_info": {
   "codemirror_mode": {
    "name": "ipython",
    "version": 3
   },
   "file_extension": ".py",
   "mimetype": "text/x-python",
   "name": "python",
   "nbconvert_exporter": "python",
   "pygments_lexer": "ipython3",
   "version": "3.8.15"
  }
 },
 "nbformat": 4,
 "nbformat_minor": 5
}
