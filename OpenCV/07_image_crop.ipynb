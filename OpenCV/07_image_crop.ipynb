{
 "cells": [
  {
   "cell_type": "markdown",
   "id": "73e054fc-cd31-4a9b-9a3e-d47d7e8fa926",
   "metadata": {},
   "source": [
    "# 7. 이미지 자르기"
   ]
  },
  {
   "cell_type": "markdown",
   "id": "5156ef4a-bf73-4574-a9b6-9ca5db38feaa",
   "metadata": {},
   "source": [
    "영역을 잘라서 새로운 원도우(창)에 표시"
   ]
  },
  {
   "cell_type": "code",
   "execution_count": 3,
   "id": "4e5a5235-58f7-4e3a-96c2-e37640f504cf",
   "metadata": {},
   "outputs": [],
   "source": [
    "import cv2\n",
    "img = cv2.imread('data/img.jpg')\n",
    "# img.shape # (391, 640, 3)\n",
    "\n",
    "crop = img[100:200, 200:400] # 세로 기준 100:200까지, 가로 기준 300:400까지 자름\n",
    "\n",
    "cv2.imshow('img', img) # 원본 이미지\n",
    "cv2.imshow('crop', crop) # 잘린 이미지\n",
    "cv2.waitKey(0)\n",
    "cv2.destroyAllWindows()"
   ]
  },
  {
   "cell_type": "markdown",
   "id": "f31d7b18-0a7e-4ffe-9008-2eb43c47c4ee",
   "metadata": {},
   "source": [
    "영역을 잘라서 기존 윈도우에 표시"
   ]
  },
  {
   "cell_type": "code",
   "execution_count": 4,
   "id": "7ffe838d-41f4-43ea-9809-718768a81b06",
   "metadata": {},
   "outputs": [],
   "source": [
    "import cv2\n",
    "img = cv2.imread('data/img.jpg')\n",
    "\n",
    "crop = img[100:200, 200:400] # 세로 기준 100:200까지, 가로 기준 300:400까지 자름\n",
    "img[100:200, 400:600] = crop\n",
    "\n",
    "cv2.imshow('img', img) # 원본 이미지\n",
    "cv2.waitKey(0)\n",
    "cv2.destroyAllWindows()"
   ]
  }
 ],
 "metadata": {
  "kernelspec": {
   "display_name": "Python 3 (ipykernel)",
   "language": "python",
   "name": "python3"
  },
  "language_info": {
   "codemirror_mode": {
    "name": "ipython",
    "version": 3
   },
   "file_extension": ".py",
   "mimetype": "text/x-python",
   "name": "python",
   "nbconvert_exporter": "python",
   "pygments_lexer": "ipython3",
   "version": "3.8.15"
  }
 },
 "nbformat": 4,
 "nbformat_minor": 5
}
